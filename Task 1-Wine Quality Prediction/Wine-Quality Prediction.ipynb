{
 "cells": [
  {
   "cell_type": "markdown",
   "id": "2109d77c",
   "metadata": {},
   "source": [
    " # Importing the Dependencies"
   ]
  },
  {
   "cell_type": "code",
   "execution_count": 31,
   "id": "e940fc45",
   "metadata": {},
   "outputs": [],
   "source": [
    "import numpy as np\n",
    "import pandas as pd\n",
    "import matplotlib.pyplot as plt\n",
    "import seaborn as sns\n",
    "from sklearn.linear_model import LinearRegression\n",
    "from sklearn.model_selection import train_test_split\n",
    "from sklearn.metrics import accuracy_score\n",
    "from sklearn import metrics\n"
   ]
  },
  {
   "cell_type": "code",
   "execution_count": 4,
   "id": "4f316df6",
   "metadata": {},
   "outputs": [],
   "source": [
    "# loading dataset\n",
    "wine=pd.read_csv(r\"C:\\Users\\Shre\\Downloads\\winequality-red.csv\")\n"
   ]
  },
  {
   "cell_type": "code",
   "execution_count": 5,
   "id": "bb10aec6",
   "metadata": {},
   "outputs": [
    {
     "data": {
      "text/plain": [
       "(1599, 12)"
      ]
     },
     "execution_count": 5,
     "metadata": {},
     "output_type": "execute_result"
    }
   ],
   "source": [
    "# number of rows and columns\n",
    "wine.shape"
   ]
  },
  {
   "cell_type": "code",
   "execution_count": 6,
   "id": "eb614461",
   "metadata": {},
   "outputs": [
    {
     "data": {
      "text/html": [
       "<div>\n",
       "<style scoped>\n",
       "    .dataframe tbody tr th:only-of-type {\n",
       "        vertical-align: middle;\n",
       "    }\n",
       "\n",
       "    .dataframe tbody tr th {\n",
       "        vertical-align: top;\n",
       "    }\n",
       "\n",
       "    .dataframe thead th {\n",
       "        text-align: right;\n",
       "    }\n",
       "</style>\n",
       "<table border=\"1\" class=\"dataframe\">\n",
       "  <thead>\n",
       "    <tr style=\"text-align: right;\">\n",
       "      <th></th>\n",
       "      <th>fixed acidity</th>\n",
       "      <th>volatile acidity</th>\n",
       "      <th>citric acid</th>\n",
       "      <th>residual sugar</th>\n",
       "      <th>chlorides</th>\n",
       "      <th>free sulfur dioxide</th>\n",
       "      <th>total sulfur dioxide</th>\n",
       "      <th>density</th>\n",
       "      <th>pH</th>\n",
       "      <th>sulphates</th>\n",
       "      <th>alcohol</th>\n",
       "      <th>quality</th>\n",
       "    </tr>\n",
       "  </thead>\n",
       "  <tbody>\n",
       "    <tr>\n",
       "      <th>0</th>\n",
       "      <td>7.4</td>\n",
       "      <td>0.70</td>\n",
       "      <td>0.00</td>\n",
       "      <td>1.9</td>\n",
       "      <td>0.076</td>\n",
       "      <td>11.0</td>\n",
       "      <td>34.0</td>\n",
       "      <td>0.9978</td>\n",
       "      <td>3.51</td>\n",
       "      <td>0.56</td>\n",
       "      <td>9.4</td>\n",
       "      <td>5</td>\n",
       "    </tr>\n",
       "    <tr>\n",
       "      <th>1</th>\n",
       "      <td>7.8</td>\n",
       "      <td>0.88</td>\n",
       "      <td>0.00</td>\n",
       "      <td>2.6</td>\n",
       "      <td>0.098</td>\n",
       "      <td>25.0</td>\n",
       "      <td>67.0</td>\n",
       "      <td>0.9968</td>\n",
       "      <td>3.20</td>\n",
       "      <td>0.68</td>\n",
       "      <td>9.8</td>\n",
       "      <td>5</td>\n",
       "    </tr>\n",
       "    <tr>\n",
       "      <th>2</th>\n",
       "      <td>7.8</td>\n",
       "      <td>0.76</td>\n",
       "      <td>0.04</td>\n",
       "      <td>2.3</td>\n",
       "      <td>0.092</td>\n",
       "      <td>15.0</td>\n",
       "      <td>54.0</td>\n",
       "      <td>0.9970</td>\n",
       "      <td>3.26</td>\n",
       "      <td>0.65</td>\n",
       "      <td>9.8</td>\n",
       "      <td>5</td>\n",
       "    </tr>\n",
       "    <tr>\n",
       "      <th>3</th>\n",
       "      <td>11.2</td>\n",
       "      <td>0.28</td>\n",
       "      <td>0.56</td>\n",
       "      <td>1.9</td>\n",
       "      <td>0.075</td>\n",
       "      <td>17.0</td>\n",
       "      <td>60.0</td>\n",
       "      <td>0.9980</td>\n",
       "      <td>3.16</td>\n",
       "      <td>0.58</td>\n",
       "      <td>9.8</td>\n",
       "      <td>6</td>\n",
       "    </tr>\n",
       "    <tr>\n",
       "      <th>4</th>\n",
       "      <td>7.4</td>\n",
       "      <td>0.70</td>\n",
       "      <td>0.00</td>\n",
       "      <td>1.9</td>\n",
       "      <td>0.076</td>\n",
       "      <td>11.0</td>\n",
       "      <td>34.0</td>\n",
       "      <td>0.9978</td>\n",
       "      <td>3.51</td>\n",
       "      <td>0.56</td>\n",
       "      <td>9.4</td>\n",
       "      <td>5</td>\n",
       "    </tr>\n",
       "  </tbody>\n",
       "</table>\n",
       "</div>"
      ],
      "text/plain": [
       "   fixed acidity  volatile acidity  citric acid  residual sugar  chlorides  \\\n",
       "0            7.4              0.70         0.00             1.9      0.076   \n",
       "1            7.8              0.88         0.00             2.6      0.098   \n",
       "2            7.8              0.76         0.04             2.3      0.092   \n",
       "3           11.2              0.28         0.56             1.9      0.075   \n",
       "4            7.4              0.70         0.00             1.9      0.076   \n",
       "\n",
       "   free sulfur dioxide  total sulfur dioxide  density    pH  sulphates  \\\n",
       "0                 11.0                  34.0   0.9978  3.51       0.56   \n",
       "1                 25.0                  67.0   0.9968  3.20       0.68   \n",
       "2                 15.0                  54.0   0.9970  3.26       0.65   \n",
       "3                 17.0                  60.0   0.9980  3.16       0.58   \n",
       "4                 11.0                  34.0   0.9978  3.51       0.56   \n",
       "\n",
       "   alcohol  quality  \n",
       "0      9.4        5  \n",
       "1      9.8        5  \n",
       "2      9.8        5  \n",
       "3      9.8        6  \n",
       "4      9.4        5  "
      ]
     },
     "execution_count": 6,
     "metadata": {},
     "output_type": "execute_result"
    }
   ],
   "source": [
    "# display first 5 rows\n",
    "wine.head(5)"
   ]
  },
  {
   "cell_type": "code",
   "execution_count": 7,
   "id": "6eddbc41",
   "metadata": {},
   "outputs": [
    {
     "data": {
      "text/plain": [
       "fixed acidity           0\n",
       "volatile acidity        0\n",
       "citric acid             0\n",
       "residual sugar          0\n",
       "chlorides               0\n",
       "free sulfur dioxide     0\n",
       "total sulfur dioxide    0\n",
       "density                 0\n",
       "pH                      0\n",
       "sulphates               0\n",
       "alcohol                 0\n",
       "quality                 0\n",
       "dtype: int64"
      ]
     },
     "execution_count": 7,
     "metadata": {},
     "output_type": "execute_result"
    }
   ],
   "source": [
    "# checking for missing values in each col\n",
    "wine.isnull().sum()\n"
   ]
  },
  {
   "cell_type": "code",
   "execution_count": 8,
   "id": "dc6297db",
   "metadata": {},
   "outputs": [],
   "source": [
    "# Incase of any missing value-drop the row or find the mean"
   ]
  },
  {
   "cell_type": "markdown",
   "id": "599797d7",
   "metadata": {},
   "source": [
    "# Data Analysis"
   ]
  },
  {
   "cell_type": "code",
   "execution_count": 9,
   "id": "efce285b",
   "metadata": {},
   "outputs": [
    {
     "data": {
      "text/html": [
       "<div>\n",
       "<style scoped>\n",
       "    .dataframe tbody tr th:only-of-type {\n",
       "        vertical-align: middle;\n",
       "    }\n",
       "\n",
       "    .dataframe tbody tr th {\n",
       "        vertical-align: top;\n",
       "    }\n",
       "\n",
       "    .dataframe thead th {\n",
       "        text-align: right;\n",
       "    }\n",
       "</style>\n",
       "<table border=\"1\" class=\"dataframe\">\n",
       "  <thead>\n",
       "    <tr style=\"text-align: right;\">\n",
       "      <th></th>\n",
       "      <th>fixed acidity</th>\n",
       "      <th>volatile acidity</th>\n",
       "      <th>citric acid</th>\n",
       "      <th>residual sugar</th>\n",
       "      <th>chlorides</th>\n",
       "      <th>free sulfur dioxide</th>\n",
       "      <th>total sulfur dioxide</th>\n",
       "      <th>density</th>\n",
       "      <th>pH</th>\n",
       "      <th>sulphates</th>\n",
       "      <th>alcohol</th>\n",
       "      <th>quality</th>\n",
       "    </tr>\n",
       "  </thead>\n",
       "  <tbody>\n",
       "    <tr>\n",
       "      <th>count</th>\n",
       "      <td>1599.000000</td>\n",
       "      <td>1599.000000</td>\n",
       "      <td>1599.000000</td>\n",
       "      <td>1599.000000</td>\n",
       "      <td>1599.000000</td>\n",
       "      <td>1599.000000</td>\n",
       "      <td>1599.000000</td>\n",
       "      <td>1599.000000</td>\n",
       "      <td>1599.000000</td>\n",
       "      <td>1599.000000</td>\n",
       "      <td>1599.000000</td>\n",
       "      <td>1599.000000</td>\n",
       "    </tr>\n",
       "    <tr>\n",
       "      <th>mean</th>\n",
       "      <td>8.319637</td>\n",
       "      <td>0.527821</td>\n",
       "      <td>0.270976</td>\n",
       "      <td>2.538806</td>\n",
       "      <td>0.087467</td>\n",
       "      <td>15.874922</td>\n",
       "      <td>46.467792</td>\n",
       "      <td>0.996747</td>\n",
       "      <td>3.311113</td>\n",
       "      <td>0.658149</td>\n",
       "      <td>10.422983</td>\n",
       "      <td>5.636023</td>\n",
       "    </tr>\n",
       "    <tr>\n",
       "      <th>std</th>\n",
       "      <td>1.741096</td>\n",
       "      <td>0.179060</td>\n",
       "      <td>0.194801</td>\n",
       "      <td>1.409928</td>\n",
       "      <td>0.047065</td>\n",
       "      <td>10.460157</td>\n",
       "      <td>32.895324</td>\n",
       "      <td>0.001887</td>\n",
       "      <td>0.154386</td>\n",
       "      <td>0.169507</td>\n",
       "      <td>1.065668</td>\n",
       "      <td>0.807569</td>\n",
       "    </tr>\n",
       "    <tr>\n",
       "      <th>min</th>\n",
       "      <td>4.600000</td>\n",
       "      <td>0.120000</td>\n",
       "      <td>0.000000</td>\n",
       "      <td>0.900000</td>\n",
       "      <td>0.012000</td>\n",
       "      <td>1.000000</td>\n",
       "      <td>6.000000</td>\n",
       "      <td>0.990070</td>\n",
       "      <td>2.740000</td>\n",
       "      <td>0.330000</td>\n",
       "      <td>8.400000</td>\n",
       "      <td>3.000000</td>\n",
       "    </tr>\n",
       "    <tr>\n",
       "      <th>25%</th>\n",
       "      <td>7.100000</td>\n",
       "      <td>0.390000</td>\n",
       "      <td>0.090000</td>\n",
       "      <td>1.900000</td>\n",
       "      <td>0.070000</td>\n",
       "      <td>7.000000</td>\n",
       "      <td>22.000000</td>\n",
       "      <td>0.995600</td>\n",
       "      <td>3.210000</td>\n",
       "      <td>0.550000</td>\n",
       "      <td>9.500000</td>\n",
       "      <td>5.000000</td>\n",
       "    </tr>\n",
       "    <tr>\n",
       "      <th>50%</th>\n",
       "      <td>7.900000</td>\n",
       "      <td>0.520000</td>\n",
       "      <td>0.260000</td>\n",
       "      <td>2.200000</td>\n",
       "      <td>0.079000</td>\n",
       "      <td>14.000000</td>\n",
       "      <td>38.000000</td>\n",
       "      <td>0.996750</td>\n",
       "      <td>3.310000</td>\n",
       "      <td>0.620000</td>\n",
       "      <td>10.200000</td>\n",
       "      <td>6.000000</td>\n",
       "    </tr>\n",
       "    <tr>\n",
       "      <th>75%</th>\n",
       "      <td>9.200000</td>\n",
       "      <td>0.640000</td>\n",
       "      <td>0.420000</td>\n",
       "      <td>2.600000</td>\n",
       "      <td>0.090000</td>\n",
       "      <td>21.000000</td>\n",
       "      <td>62.000000</td>\n",
       "      <td>0.997835</td>\n",
       "      <td>3.400000</td>\n",
       "      <td>0.730000</td>\n",
       "      <td>11.100000</td>\n",
       "      <td>6.000000</td>\n",
       "    </tr>\n",
       "    <tr>\n",
       "      <th>max</th>\n",
       "      <td>15.900000</td>\n",
       "      <td>1.580000</td>\n",
       "      <td>1.000000</td>\n",
       "      <td>15.500000</td>\n",
       "      <td>0.611000</td>\n",
       "      <td>72.000000</td>\n",
       "      <td>289.000000</td>\n",
       "      <td>1.003690</td>\n",
       "      <td>4.010000</td>\n",
       "      <td>2.000000</td>\n",
       "      <td>14.900000</td>\n",
       "      <td>8.000000</td>\n",
       "    </tr>\n",
       "  </tbody>\n",
       "</table>\n",
       "</div>"
      ],
      "text/plain": [
       "       fixed acidity  volatile acidity  citric acid  residual sugar  \\\n",
       "count    1599.000000       1599.000000  1599.000000     1599.000000   \n",
       "mean        8.319637          0.527821     0.270976        2.538806   \n",
       "std         1.741096          0.179060     0.194801        1.409928   \n",
       "min         4.600000          0.120000     0.000000        0.900000   \n",
       "25%         7.100000          0.390000     0.090000        1.900000   \n",
       "50%         7.900000          0.520000     0.260000        2.200000   \n",
       "75%         9.200000          0.640000     0.420000        2.600000   \n",
       "max        15.900000          1.580000     1.000000       15.500000   \n",
       "\n",
       "         chlorides  free sulfur dioxide  total sulfur dioxide      density  \\\n",
       "count  1599.000000          1599.000000           1599.000000  1599.000000   \n",
       "mean      0.087467            15.874922             46.467792     0.996747   \n",
       "std       0.047065            10.460157             32.895324     0.001887   \n",
       "min       0.012000             1.000000              6.000000     0.990070   \n",
       "25%       0.070000             7.000000             22.000000     0.995600   \n",
       "50%       0.079000            14.000000             38.000000     0.996750   \n",
       "75%       0.090000            21.000000             62.000000     0.997835   \n",
       "max       0.611000            72.000000            289.000000     1.003690   \n",
       "\n",
       "                pH    sulphates      alcohol      quality  \n",
       "count  1599.000000  1599.000000  1599.000000  1599.000000  \n",
       "mean      3.311113     0.658149    10.422983     5.636023  \n",
       "std       0.154386     0.169507     1.065668     0.807569  \n",
       "min       2.740000     0.330000     8.400000     3.000000  \n",
       "25%       3.210000     0.550000     9.500000     5.000000  \n",
       "50%       3.310000     0.620000    10.200000     6.000000  \n",
       "75%       3.400000     0.730000    11.100000     6.000000  \n",
       "max       4.010000     2.000000    14.900000     8.000000  "
      ]
     },
     "execution_count": 9,
     "metadata": {},
     "output_type": "execute_result"
    }
   ],
   "source": [
    "# statistical measures of dataset\n",
    "wine.describe()"
   ]
  },
  {
   "cell_type": "code",
   "execution_count": 10,
   "id": "26fb3469",
   "metadata": {},
   "outputs": [
    {
     "data": {
      "text/plain": [
       "<seaborn.axisgrid.FacetGrid at 0x1cd12f3b150>"
      ]
     },
     "execution_count": 10,
     "metadata": {},
     "output_type": "execute_result"
    },
    {
     "data": {
      "image/png": "[encoded data removed]",
      "text/plain": [
       "<Figure size 500x500 with 1 Axes>"
      ]
     },
     "metadata": {},
     "output_type": "display_data"
    }
   ],
   "source": [
    "# find the count for each quality\n",
    "# create a count plot using sns to visualize the distribution of data in \"quality\" variable\n",
    "sns.catplot(x='quality',data=wine,kind='count')"
   ]
  },
  {
   "cell_type": "markdown",
   "id": "78c28ce4",
   "metadata": {},
   "source": [
    "# From the above graph we can find-\n",
    "* There are 6 values\n",
    "* If the wine quality is bad ,the value of quality is low (3,4)\n",
    "* If the wine quality is good ,the value of quality is low (7,8)\n",
    "* There is more amount of data with the quality value of 5 and 6"
   ]
  },
  {
   "cell_type": "code",
   "execution_count": 14,
   "id": "3b711033",
   "metadata": {},
   "outputs": [
    {
     "data": {
      "text/plain": [
       "<Axes: xlabel='quality', ylabel='volatile acidity'>"
      ]
     },
     "execution_count": 14,
     "metadata": {},
     "output_type": "execute_result"
    },
    {
     "data": {
      "image/png": "[encoded data removed]",
      "text/plain": [
       "<Figure size 400x400 with 1 Axes>"
      ]
     },
     "metadata": {},
     "output_type": "display_data"
    }
   ],
   "source": [
    "# Now we find how each attribute affects the quality-Which col is more related to label(quality)\n",
    "# volatile acidity vs Quality\n",
    "plot=plt.figure(figsize=(4,4)) # size of the plot\n",
    "sns.barplot(x='quality',y='volatile acidity',data=wine)"
   ]
  },
  {
   "cell_type": "markdown",
   "id": "fde23879",
   "metadata": {},
   "source": [
    "* We can observe that when the volatile acidity is high, the quality of wine is less.\n",
    "* Therefore, we can conclude that volatile acidity is inversely proportional to quality of wine."
   ]
  },
  {
   "cell_type": "code",
   "execution_count": 16,
   "id": "29737a00",
   "metadata": {},
   "outputs": [
    {
     "data": {
      "text/plain": [
       "<Axes: xlabel='quality', ylabel='citric acid'>"
      ]
     },
     "execution_count": 16,
     "metadata": {},
     "output_type": "execute_result"
    },
    {
     "data": {
      "image/png": "[encoded data removed]",
      "text/plain": [
       "<Figure size 400x400 with 1 Axes>"
      ]
     },
     "metadata": {},
     "output_type": "display_data"
    }
   ],
   "source": [
    "# citric acid vs Quality\n",
    "plot=plt.figure(figsize=(4,4)) # size of the plot\n",
    "sns.barplot(x='quality',y='citric acid',data=wine)"
   ]
  },
  {
   "cell_type": "markdown",
   "id": "f680ffdd",
   "metadata": {},
   "source": [
    "* We can observe that when the citric acid is high, the quality of wine is high.\n",
    "* Therefore, we can conclude that citric acid is directly proportional to quality of wine."
   ]
  },
  {
   "cell_type": "code",
   "execution_count": 17,
   "id": "b1df4d65",
   "metadata": {},
   "outputs": [
    {
     "data": {
      "text/plain": [
       "<Axes: xlabel='quality', ylabel='sulphates'>"
      ]
     },
     "execution_count": 17,
     "metadata": {},
     "output_type": "execute_result"
    },
    {
     "data": {
      "image/png": "[encoded data removed]",
      "text/plain": [
       "<Figure size 400x400 with 1 Axes>"
      ]
     },
     "metadata": {},
     "output_type": "display_data"
    }
   ],
   "source": [
    "# sulphates vs Quality\n",
    "plot=plt.figure(figsize=(4,4)) # size of the plot\n",
    "sns.barplot(x='quality',y='sulphates',data=wine)"
   ]
  },
  {
   "cell_type": "markdown",
   "id": "992ee883",
   "metadata": {},
   "source": [
    "* We can conclude sulphates are directly proportional to quality."
   ]
  },
  {
   "cell_type": "markdown",
   "id": "d90ed235",
   "metadata": {},
   "source": [
    "# Correlation\n",
    "* Positive Correlation-Directly prop\n",
    "* Negative Correlation-Inversely prop"
   ]
  },
  {
   "cell_type": "code",
   "execution_count": 19,
   "id": "893bd2f0",
   "metadata": {},
   "outputs": [],
   "source": [
    "correlation=wine.corr()"
   ]
  },
  {
   "cell_type": "code",
   "execution_count": 20,
   "id": "d58f463a",
   "metadata": {},
   "outputs": [
    {
     "data": {
      "text/plain": [
       "<Axes: >"
      ]
     },
     "execution_count": 20,
     "metadata": {},
     "output_type": "execute_result"
    },
    {
     "data": {
      "image/png": "[encoded data removed]",
      "text/plain": [
       "<Figure size 1000x1000 with 2 Axes>"
      ]
     },
     "metadata": {},
     "output_type": "display_data"
    }
   ],
   "source": [
    "# Construction of heatmap to compare the correlation of the col\n",
    "plt.figure(figsize=(10,10))\n",
    "sns.heatmap(correlation,cbar=True,square=True,fmt='.1f',annot=True,annot_kws={'size':9},cmap='Blues')"
   ]
  },
  {
   "cell_type": "markdown",
   "id": "0c36e9fa",
   "metadata": {},
   "source": [
    "* We can infer the following-\n",
    "* The darkest colour(1.0) implies that the two values are close to each other i.e directly proportional\n",
    "* The light colour(-0.6) implies the two values are inversely proportional to each other.\n",
    "* Ignore the diagonal as its comparing with itself. \n",
    "* With respect to quality we can conclude that alcohol (with 0.5) is in positive correlation with quality and volatile acidity (with -0.4) is in negative correlation with quality."
   ]
  },
  {
   "cell_type": "code",
   "execution_count": 22,
   "id": "7cff1b30",
   "metadata": {},
   "outputs": [
    {
     "data": {
      "text/plain": [
       "<Axes: xlabel='quality', ylabel='alcohol'>"
      ]
     },
     "execution_count": 22,
     "metadata": {},
     "output_type": "execute_result"
    },
    {
     "data": {
      "image/png": "[encoded data removed]",
      "text/plain": [
       "<Figure size 640x480 with 1 Axes>"
      ]
     },
     "metadata": {},
     "output_type": "display_data"
    }
   ],
   "source": [
    "sns.violinplot(x='quality', y='alcohol', data=wine)"
   ]
  },
  {
   "cell_type": "markdown",
   "id": "6b06bc14",
   "metadata": {},
   "source": [
    "# Data Preprocessing"
   ]
  },
  {
   "cell_type": "code",
   "execution_count": 23,
   "id": "c4e1e802",
   "metadata": {},
   "outputs": [
    {
     "data": {
      "text/html": [
       "<div>\n",
       "<style scoped>\n",
       "    .dataframe tbody tr th:only-of-type {\n",
       "        vertical-align: middle;\n",
       "    }\n",
       "\n",
       "    .dataframe tbody tr th {\n",
       "        vertical-align: top;\n",
       "    }\n",
       "\n",
       "    .dataframe thead th {\n",
       "        text-align: right;\n",
       "    }\n",
       "</style>\n",
       "<table border=\"1\" class=\"dataframe\">\n",
       "  <thead>\n",
       "    <tr style=\"text-align: right;\">\n",
       "      <th></th>\n",
       "      <th>fixed acidity</th>\n",
       "      <th>volatile acidity</th>\n",
       "      <th>citric acid</th>\n",
       "      <th>residual sugar</th>\n",
       "      <th>chlorides</th>\n",
       "      <th>free sulfur dioxide</th>\n",
       "      <th>total sulfur dioxide</th>\n",
       "      <th>density</th>\n",
       "      <th>pH</th>\n",
       "      <th>sulphates</th>\n",
       "      <th>alcohol</th>\n",
       "    </tr>\n",
       "  </thead>\n",
       "  <tbody>\n",
       "    <tr>\n",
       "      <th>0</th>\n",
       "      <td>7.4</td>\n",
       "      <td>0.700</td>\n",
       "      <td>0.00</td>\n",
       "      <td>1.9</td>\n",
       "      <td>0.076</td>\n",
       "      <td>11.0</td>\n",
       "      <td>34.0</td>\n",
       "      <td>0.99780</td>\n",
       "      <td>3.51</td>\n",
       "      <td>0.56</td>\n",
       "      <td>9.4</td>\n",
       "    </tr>\n",
       "    <tr>\n",
       "      <th>1</th>\n",
       "      <td>7.8</td>\n",
       "      <td>0.880</td>\n",
       "      <td>0.00</td>\n",
       "      <td>2.6</td>\n",
       "      <td>0.098</td>\n",
       "      <td>25.0</td>\n",
       "      <td>67.0</td>\n",
       "      <td>0.99680</td>\n",
       "      <td>3.20</td>\n",
       "      <td>0.68</td>\n",
       "      <td>9.8</td>\n",
       "    </tr>\n",
       "    <tr>\n",
       "      <th>2</th>\n",
       "      <td>7.8</td>\n",
       "      <td>0.760</td>\n",
       "      <td>0.04</td>\n",
       "      <td>2.3</td>\n",
       "      <td>0.092</td>\n",
       "      <td>15.0</td>\n",
       "      <td>54.0</td>\n",
       "      <td>0.99700</td>\n",
       "      <td>3.26</td>\n",
       "      <td>0.65</td>\n",
       "      <td>9.8</td>\n",
       "    </tr>\n",
       "    <tr>\n",
       "      <th>3</th>\n",
       "      <td>11.2</td>\n",
       "      <td>0.280</td>\n",
       "      <td>0.56</td>\n",
       "      <td>1.9</td>\n",
       "      <td>0.075</td>\n",
       "      <td>17.0</td>\n",
       "      <td>60.0</td>\n",
       "      <td>0.99800</td>\n",
       "      <td>3.16</td>\n",
       "      <td>0.58</td>\n",
       "      <td>9.8</td>\n",
       "    </tr>\n",
       "    <tr>\n",
       "      <th>4</th>\n",
       "      <td>7.4</td>\n",
       "      <td>0.700</td>\n",
       "      <td>0.00</td>\n",
       "      <td>1.9</td>\n",
       "      <td>0.076</td>\n",
       "      <td>11.0</td>\n",
       "      <td>34.0</td>\n",
       "      <td>0.99780</td>\n",
       "      <td>3.51</td>\n",
       "      <td>0.56</td>\n",
       "      <td>9.4</td>\n",
       "    </tr>\n",
       "    <tr>\n",
       "      <th>...</th>\n",
       "      <td>...</td>\n",
       "      <td>...</td>\n",
       "      <td>...</td>\n",
       "      <td>...</td>\n",
       "      <td>...</td>\n",
       "      <td>...</td>\n",
       "      <td>...</td>\n",
       "      <td>...</td>\n",
       "      <td>...</td>\n",
       "      <td>...</td>\n",
       "      <td>...</td>\n",
       "    </tr>\n",
       "    <tr>\n",
       "      <th>1594</th>\n",
       "      <td>6.2</td>\n",
       "      <td>0.600</td>\n",
       "      <td>0.08</td>\n",
       "      <td>2.0</td>\n",
       "      <td>0.090</td>\n",
       "      <td>32.0</td>\n",
       "      <td>44.0</td>\n",
       "      <td>0.99490</td>\n",
       "      <td>3.45</td>\n",
       "      <td>0.58</td>\n",
       "      <td>10.5</td>\n",
       "    </tr>\n",
       "    <tr>\n",
       "      <th>1595</th>\n",
       "      <td>5.9</td>\n",
       "      <td>0.550</td>\n",
       "      <td>0.10</td>\n",
       "      <td>2.2</td>\n",
       "      <td>0.062</td>\n",
       "      <td>39.0</td>\n",
       "      <td>51.0</td>\n",
       "      <td>0.99512</td>\n",
       "      <td>3.52</td>\n",
       "      <td>0.76</td>\n",
       "      <td>11.2</td>\n",
       "    </tr>\n",
       "    <tr>\n",
       "      <th>1596</th>\n",
       "      <td>6.3</td>\n",
       "      <td>0.510</td>\n",
       "      <td>0.13</td>\n",
       "      <td>2.3</td>\n",
       "      <td>0.076</td>\n",
       "      <td>29.0</td>\n",
       "      <td>40.0</td>\n",
       "      <td>0.99574</td>\n",
       "      <td>3.42</td>\n",
       "      <td>0.75</td>\n",
       "      <td>11.0</td>\n",
       "    </tr>\n",
       "    <tr>\n",
       "      <th>1597</th>\n",
       "      <td>5.9</td>\n",
       "      <td>0.645</td>\n",
       "      <td>0.12</td>\n",
       "      <td>2.0</td>\n",
       "      <td>0.075</td>\n",
       "      <td>32.0</td>\n",
       "      <td>44.0</td>\n",
       "      <td>0.99547</td>\n",
       "      <td>3.57</td>\n",
       "      <td>0.71</td>\n",
       "      <td>10.2</td>\n",
       "    </tr>\n",
       "    <tr>\n",
       "      <th>1598</th>\n",
       "      <td>6.0</td>\n",
       "      <td>0.310</td>\n",
       "      <td>0.47</td>\n",
       "      <td>3.6</td>\n",
       "      <td>0.067</td>\n",
       "      <td>18.0</td>\n",
       "      <td>42.0</td>\n",
       "      <td>0.99549</td>\n",
       "      <td>3.39</td>\n",
       "      <td>0.66</td>\n",
       "      <td>11.0</td>\n",
       "    </tr>\n",
       "  </tbody>\n",
       "</table>\n",
       "<p>1599 rows × 11 columns</p>\n",
       "</div>"
      ],
      "text/plain": [
       "      fixed acidity  volatile acidity  citric acid  residual sugar  chlorides  \\\n",
       "0               7.4             0.700         0.00             1.9      0.076   \n",
       "1               7.8             0.880         0.00             2.6      0.098   \n",
       "2               7.8             0.760         0.04             2.3      0.092   \n",
       "3              11.2             0.280         0.56             1.9      0.075   \n",
       "4               7.4             0.700         0.00             1.9      0.076   \n",
       "...             ...               ...          ...             ...        ...   \n",
       "1594            6.2             0.600         0.08             2.0      0.090   \n",
       "1595            5.9             0.550         0.10             2.2      0.062   \n",
       "1596            6.3             0.510         0.13             2.3      0.076   \n",
       "1597            5.9             0.645         0.12             2.0      0.075   \n",
       "1598            6.0             0.310         0.47             3.6      0.067   \n",
       "\n",
       "      free sulfur dioxide  total sulfur dioxide  density    pH  sulphates  \\\n",
       "0                    11.0                  34.0  0.99780  3.51       0.56   \n",
       "1                    25.0                  67.0  0.99680  3.20       0.68   \n",
       "2                    15.0                  54.0  0.99700  3.26       0.65   \n",
       "3                    17.0                  60.0  0.99800  3.16       0.58   \n",
       "4                    11.0                  34.0  0.99780  3.51       0.56   \n",
       "...                   ...                   ...      ...   ...        ...   \n",
       "1594                 32.0                  44.0  0.99490  3.45       0.58   \n",
       "1595                 39.0                  51.0  0.99512  3.52       0.76   \n",
       "1596                 29.0                  40.0  0.99574  3.42       0.75   \n",
       "1597                 32.0                  44.0  0.99547  3.57       0.71   \n",
       "1598                 18.0                  42.0  0.99549  3.39       0.66   \n",
       "\n",
       "      alcohol  \n",
       "0         9.4  \n",
       "1         9.8  \n",
       "2         9.8  \n",
       "3         9.8  \n",
       "4         9.4  \n",
       "...       ...  \n",
       "1594     10.5  \n",
       "1595     11.2  \n",
       "1596     11.0  \n",
       "1597     10.2  \n",
       "1598     11.0  \n",
       "\n",
       "[1599 rows x 11 columns]"
      ]
     },
     "execution_count": 23,
     "metadata": {},
     "output_type": "execute_result"
    }
   ],
   "source": [
    "X=wine.drop('quality',axis=1)\n",
    "X"
   ]
  },
  {
   "cell_type": "code",
   "execution_count": 27,
   "id": "5c6f295e",
   "metadata": {},
   "outputs": [
    {
     "data": {
      "text/plain": [
       "0       5\n",
       "1       5\n",
       "2       5\n",
       "3       6\n",
       "4       5\n",
       "       ..\n",
       "1594    5\n",
       "1595    6\n",
       "1596    6\n",
       "1597    5\n",
       "1598    6\n",
       "Name: quality, Length: 1599, dtype: int64"
      ]
     },
     "execution_count": 27,
     "metadata": {},
     "output_type": "execute_result"
    }
   ],
   "source": [
    "Y=wine['quality']\n",
    "Y"
   ]
  },
  {
   "cell_type": "code",
   "execution_count": 28,
   "id": "fb2c8a2b",
   "metadata": {},
   "outputs": [],
   "source": [
    "# Train and Test data\n",
    "X_train,X_test,Y_train,Y_test=train_test_split(X,Y,test_size=0.3 )"
   ]
  },
  {
   "cell_type": "markdown",
   "id": "ff3aa7f0",
   "metadata": {},
   "source": [
    "# Linear Regression"
   ]
  },
  {
   "cell_type": "code",
   "execution_count": 32,
   "id": "301c13a5",
   "metadata": {},
   "outputs": [
    {
     "data": {
      "text/html": [
       "<style>#sk-container-id-1 {color: black;}#sk-container-id-1 pre{padding: 0;}#sk-container-id-1 div.sk-toggleable {background-color: white;}#sk-container-id-1 label.sk-toggleable__label {cursor: pointer;display: block;width: 100%;margin-bottom: 0;padding: 0.3em;box-sizing: border-box;text-align: center;}#sk-container-id-1 label.sk-toggleable__label-arrow:before {content: \"▸\";float: left;margin-right: 0.25em;color: #696969;}#sk-container-id-1 label.sk-toggleable__label-arrow:hover:before {color: black;}#sk-container-id-1 div.sk-estimator:hover label.sk-toggleable__label-arrow:before {color: black;}#sk-container-id-1 div.sk-toggleable__content {max-height: 0;max-width: 0;overflow: hidden;text-align: left;background-color: #f0f8ff;}#sk-container-id-1 div.sk-toggleable__content pre {margin: 0.2em;color: black;border-radius: 0.25em;background-color: #f0f8ff;}#sk-container-id-1 input.sk-toggleable__control:checked~div.sk-toggleable__content {max-height: 200px;max-width: 100%;overflow: auto;}#sk-container-id-1 input.sk-toggleable__control:checked~label.sk-toggleable__label-arrow:before {content: \"▾\";}#sk-container-id-1 div.sk-estimator input.sk-toggleable__control:checked~label.sk-toggleable__label {background-color: #d4ebff;}#sk-container-id-1 div.sk-label input.sk-toggleable__control:checked~label.sk-toggleable__label {background-color: #d4ebff;}#sk-container-id-1 input.sk-hidden--visually {border: 0;clip: rect(1px 1px 1px 1px);clip: rect(1px, 1px, 1px, 1px);height: 1px;margin: -1px;overflow: hidden;padding: 0;position: absolute;width: 1px;}#sk-container-id-1 div.sk-estimator {font-family: monospace;background-color: #f0f8ff;border: 1px dotted black;border-radius: 0.25em;box-sizing: border-box;margin-bottom: 0.5em;}#sk-container-id-1 div.sk-estimator:hover {background-color: #d4ebff;}#sk-container-id-1 div.sk-parallel-item::after {content: \"\";width: 100%;border-bottom: 1px solid gray;flex-grow: 1;}#sk-container-id-1 div.sk-label:hover label.sk-toggleable__label {background-color: #d4ebff;}#sk-container-id-1 div.sk-serial::before {content: \"\";position: absolute;border-left: 1px solid gray;box-sizing: border-box;top: 0;bottom: 0;left: 50%;z-index: 0;}#sk-container-id-1 div.sk-serial {display: flex;flex-direction: column;align-items: center;background-color: white;padding-right: 0.2em;padding-left: 0.2em;position: relative;}#sk-container-id-1 div.sk-item {position: relative;z-index: 1;}#sk-container-id-1 div.sk-parallel {display: flex;align-items: stretch;justify-content: center;background-color: white;position: relative;}#sk-container-id-1 div.sk-item::before, #sk-container-id-1 div.sk-parallel-item::before {content: \"\";position: absolute;border-left: 1px solid gray;box-sizing: border-box;top: 0;bottom: 0;left: 50%;z-index: -1;}#sk-container-id-1 div.sk-parallel-item {display: flex;flex-direction: column;z-index: 1;position: relative;background-color: white;}#sk-container-id-1 div.sk-parallel-item:first-child::after {align-self: flex-end;width: 50%;}#sk-container-id-1 div.sk-parallel-item:last-child::after {align-self: flex-start;width: 50%;}#sk-container-id-1 div.sk-parallel-item:only-child::after {width: 0;}#sk-container-id-1 div.sk-dashed-wrapped {border: 1px dashed gray;margin: 0 0.4em 0.5em 0.4em;box-sizing: border-box;padding-bottom: 0.4em;background-color: white;}#sk-container-id-1 div.sk-label label {font-family: monospace;font-weight: bold;display: inline-block;line-height: 1.2em;}#sk-container-id-1 div.sk-label-container {text-align: center;}#sk-container-id-1 div.sk-container {/* jupyter's `normalize.less` sets `[hidden] { display: none; }` but bootstrap.min.css set `[hidden] { display: none !important; }` so we also need the `!important` here to be able to override the default hidden behavior on the sphinx rendered scikit-learn.org. See: https://github.com/scikit-learn/scikit-learn/issues/21755 */display: inline-block !important;position: relative;}#sk-container-id-1 div.sk-text-repr-fallback {display: none;}</style><div id=\"sk-container-id-1\" class=\"sk-top-container\"><div class=\"sk-text-repr-fallback\"><pre>LinearRegression()</pre><b>In a Jupyter environment, please rerun this cell to show the HTML representation or trust the notebook. <br />On GitHub, the HTML representation is unable to render, please try loading this page with nbviewer.org.</b></div><div class=\"sk-container\" hidden><div class=\"sk-item\"><div class=\"sk-estimator sk-toggleable\"><input class=\"sk-toggleable__control sk-hidden--visually\" id=\"sk-estimator-id-1\" type=\"checkbox\" checked><label for=\"sk-estimator-id-1\" class=\"sk-toggleable__label sk-toggleable__label-arrow\">LinearRegression</label><div class=\"sk-toggleable__content\"><pre>LinearRegression()</pre></div></div></div></div></div>"
      ],
      "text/plain": [
       "LinearRegression()"
      ]
     },
     "execution_count": 32,
     "metadata": {},
     "output_type": "execute_result"
    }
   ],
   "source": [
    "reg=LinearRegression()\n",
    "reg.fit(X_train,Y_train) #fitting the model to the provided data i.e learn the relaationships between the independent var in x_train and target var in y_train"
   ]
  },
  {
   "cell_type": "code",
   "execution_count": 33,
   "id": "74f41f3b",
   "metadata": {},
   "outputs": [
    {
     "data": {
      "text/plain": [
       "21.239236600231017"
      ]
     },
     "execution_count": 33,
     "metadata": {},
     "output_type": "execute_result"
    }
   ],
   "source": [
    "reg.intercept_ # baseline prediction as in when all the independent variables=0,value of target var is 37"
   ]
  },
  {
   "cell_type": "code",
   "execution_count": 34,
   "id": "83229f17",
   "metadata": {},
   "outputs": [
    {
     "data": {
      "text/plain": [
       "array([ 3.36851242e-02, -9.92226662e-01, -1.87235501e-01,  1.97378966e-02,\n",
       "       -1.56830138e+00,  2.79715778e-03, -3.08990501e-03, -1.75080251e+01,\n",
       "       -4.00620730e-01,  8.88221365e-01,  2.93405015e-01])"
      ]
     },
     "execution_count": 34,
     "metadata": {},
     "output_type": "execute_result"
    }
   ],
   "source": [
    "reg.coef_ # positive coefficients imply positive correlation with target variable\n",
    "          # negative coefficients -negative correlation "
   ]
  },
  {
   "cell_type": "code",
   "execution_count": 35,
   "id": "357bbde2",
   "metadata": {},
   "outputs": [
    {
     "data": {
      "text/plain": [
       "array([5.7688486 , 6.21423613, 5.74677488, ..., 6.50602786, 5.72097597,\n",
       "       5.54379749])"
      ]
     },
     "execution_count": 35,
     "metadata": {},
     "output_type": "execute_result"
    }
   ],
   "source": [
    "train_pred=reg.predict(X_train) # calculate the predicted values of target variable based on the learned coefficients and intercept\n",
    "train_pred"
   ]
  },
  {
   "cell_type": "code",
   "execution_count": 36,
   "id": "adcc1f3a",
   "metadata": {},
   "outputs": [
    {
     "data": {
      "text/plain": [
       "array([5.10653854, 5.91510873, 5.28032277, 5.23641945, 6.55776119,\n",
       "       5.03988515, 5.33319534, 5.69492845, 5.69466029, 5.94589082,\n",
       "       5.91690607, 5.25611564, 6.64740735, 4.71065795, 6.07569152,\n",
       "       5.46969256, 5.79235967, 5.70028674, 5.35085436, 5.00058777,\n",
       "       6.17637242, 5.98932699, 5.43746534, 4.90858946, 4.72893209,\n",
       "       5.08786356, 5.01409753, 6.21429303, 5.53628783, 5.13383548,\n",
       "       5.79354844, 5.012961  , 5.85738139, 5.28102896, 5.18741135,\n",
       "       5.27764784, 6.10672914, 5.68310501, 6.10813143, 6.58958152,\n",
       "       5.60894546, 6.06475593, 5.68959177, 5.20694804, 5.13913997,\n",
       "       5.83134526, 5.64355648, 5.7194812 , 5.09938499, 5.4097918 ,\n",
       "       5.618413  , 5.76348988, 5.38432572, 5.7797578 , 5.71342576,\n",
       "       6.49493653, 5.73803851, 5.04192999, 6.33100582, 5.56864428,\n",
       "       5.60031477, 4.92698471, 5.32521839, 5.28164224, 5.92062624,\n",
       "       6.53558797, 6.23161862, 5.38227485, 5.15836385, 5.60894546,\n",
       "       6.51355826, 5.46393896, 5.20053764, 5.63765573, 5.27308782,\n",
       "       5.09287093, 6.26859374, 4.93963207, 5.1486807 , 5.00802502,\n",
       "       5.30731358, 5.28428954, 5.10530553, 5.43223729, 6.47677216,\n",
       "       5.07717131, 5.03818375, 5.26907435, 5.59562147, 5.47441252,\n",
       "       5.23982046, 6.20798665, 4.63871917, 5.16432816, 5.58998963,\n",
       "       5.64953292, 6.34264499, 5.18690131, 5.35827528, 5.74932355,\n",
       "       4.7013192 , 6.14307915, 5.07060994, 6.11917759, 5.17852051,\n",
       "       5.15308525, 6.22888479, 5.5201629 , 5.8805397 , 5.75077659,\n",
       "       6.05936071, 5.18978189, 5.22195567, 5.3026828 , 5.52619771,\n",
       "       5.37668535, 5.22309933, 5.46351628, 4.86172797, 5.8996368 ,\n",
       "       5.91347571, 6.36727367, 4.96819887, 5.73403263, 5.80078155,\n",
       "       5.70793146, 5.40658349, 5.08134412, 5.35709947, 6.81003726,\n",
       "       6.63293936, 5.57937173, 6.2743617 , 4.93298533, 6.44326665,\n",
       "       5.27906691, 5.84780968, 4.70876078, 5.24044682, 5.59321209,\n",
       "       5.12878161, 5.51246079, 5.70893298, 6.53869826, 5.42664936,\n",
       "       5.46002435, 5.43839716, 5.98968947, 4.94594876, 6.24898813,\n",
       "       5.29363909, 5.17709453, 5.40276359, 6.01455641, 5.5987815 ,\n",
       "       6.88229144, 5.18106171, 6.14836889, 4.81562506, 6.03082975,\n",
       "       5.53958993, 5.58796924, 5.6628611 , 6.3053064 , 5.62728073,\n",
       "       5.60395796, 5.76280762, 5.34989464, 4.49768492, 6.5598118 ,\n",
       "       5.41667869, 6.88229144, 5.50488763, 5.80909622, 5.52734614,\n",
       "       6.00004124, 5.70742591, 5.62212673, 6.15508486, 5.02573416,\n",
       "       5.31450431, 6.64600317, 5.14015579, 5.46351628, 5.42854179,\n",
       "       6.08890596, 5.3223734 , 6.58756229, 6.43782946, 6.14697712,\n",
       "       5.7103824 , 5.95704087, 5.20057981, 5.15054769, 5.03383921,\n",
       "       6.41635193, 5.47740045, 6.18446539, 4.83316977, 6.20168681,\n",
       "       6.21499612, 6.53019422, 4.84819401, 5.81177058, 5.505174  ,\n",
       "       5.11128485, 5.26867934, 5.50743952, 5.89486168, 5.80275465,\n",
       "       5.30465721, 6.10489881, 5.34990275, 5.85946198, 5.47631887,\n",
       "       6.37611324, 5.10193382, 5.72220894, 5.39250524, 5.36461202,\n",
       "       5.0819097 , 5.2398112 , 6.4055699 , 6.37518709, 5.39459206,\n",
       "       5.52386046, 5.11091496, 5.62322413, 5.15666709, 6.7956062 ,\n",
       "       6.34780242, 5.68253054, 5.62254084, 5.21875752, 5.10510763,\n",
       "       5.46672838, 5.14716897, 5.43223729, 5.14241116, 6.74523036,\n",
       "       5.16151916, 5.70893298, 5.78664068, 5.25936017, 6.0780218 ,\n",
       "       6.14657831, 5.35633335, 6.1015303 , 5.92144648, 5.31320844,\n",
       "       6.57924109, 5.47570002, 5.3401376 , 5.60709623, 5.10261385,\n",
       "       5.64318884, 6.08890596, 5.61639765, 6.44354513, 5.11608686,\n",
       "       6.06377133, 4.78295802, 5.06396131, 6.0235586 , 4.98950389,\n",
       "       4.98797499, 5.3075225 , 5.00822475, 5.10146814, 5.64804625,\n",
       "       5.35568139, 5.37514125, 5.73403263, 5.70429245, 4.80262058,\n",
       "       6.31188405, 5.0933889 , 5.86797382, 6.35975993, 6.27387489,\n",
       "       5.09864898, 5.87940622, 5.20780325, 5.1352749 , 5.60501053,\n",
       "       6.48415287, 5.30138135, 5.15101183, 5.4097918 , 5.81177058,\n",
       "       6.34938927, 6.3943584 , 5.40275528, 5.51291308, 4.96720333,\n",
       "       5.43735687, 6.21218789, 5.39140281, 6.41796646, 5.07424621,\n",
       "       6.0460224 , 5.90731627, 5.65153014, 5.71884247, 5.46392601,\n",
       "       5.39981269, 5.19631405, 5.71500829, 5.59043866, 6.05064329,\n",
       "       5.31551383, 6.54046789, 4.47524196, 5.19102844, 5.60263023,\n",
       "       6.11506419, 4.90175972, 6.09914664, 5.14650247, 5.65212451,\n",
       "       5.76280762, 5.39967444, 5.45406955, 5.35513469, 5.09977638,\n",
       "       5.14456348, 5.01838494, 5.48668482, 6.3386852 , 6.04226691,\n",
       "       5.01838494, 5.23790833, 5.45406955, 5.31283907, 5.59003432,\n",
       "       5.09519088, 6.41635193, 5.78365103, 5.94821866, 5.68531201,\n",
       "       5.98441531, 6.66028885, 5.85738139, 5.74242712, 5.79615571,\n",
       "       5.43116457, 4.99911049, 5.88585778, 6.42916521, 5.3432205 ,\n",
       "       7.59354196, 5.15836385, 5.11421715, 5.63881243, 5.41040315,\n",
       "       5.98368221, 5.20137087, 5.43543702, 6.20856203, 6.33369874,\n",
       "       5.45456886, 5.57657338, 4.86661806, 6.11563251, 5.71469057,\n",
       "       5.66776502, 6.42183911, 5.51748753, 5.16629987, 6.48646121,\n",
       "       5.87218661, 5.32078892, 6.75684451, 5.41961631, 6.36674313,\n",
       "       6.42900444, 5.37900463, 5.77830405, 5.10861334, 5.29976092,\n",
       "       5.31839207, 6.21840118, 6.20722225, 5.37762009, 5.014711  ,\n",
       "       6.46325436, 5.41315349, 4.89189241, 5.65534533, 6.06867883,\n",
       "       5.49441407, 4.5104713 , 5.18991164, 5.8938803 , 6.0331681 ,\n",
       "       5.44952945, 6.36384271, 5.26758635, 6.05643311, 5.47073613,\n",
       "       6.51256399, 6.14573812, 5.23420319, 5.29144109, 5.04192999,\n",
       "       5.99525143, 5.12738347, 5.14418379, 5.09965885, 5.6124189 ,\n",
       "       5.53363972, 5.37514125, 4.92066656, 5.31893408, 5.88530617,\n",
       "       6.45797855, 4.99846935, 6.18607692, 5.86097091, 5.79838175,\n",
       "       5.7072881 , 5.35957396, 5.21188995, 5.21231688, 5.40560657,\n",
       "       5.9804314 , 5.64908731, 6.73063339, 5.06046288, 5.78864605,\n",
       "       6.56942511, 5.37346811, 5.70887638, 6.20900034, 4.84061462,\n",
       "       5.80277273, 5.15180971, 6.23777714, 5.80024484, 5.77437653,\n",
       "       6.15332804, 5.80740425, 4.93866982, 5.77437653, 6.09775728,\n",
       "       5.76364573, 5.36518163, 5.83418002, 5.59883523, 5.32521839,\n",
       "       5.35681305, 5.73583811, 6.54324876, 5.84980769, 5.47660129,\n",
       "       6.2042148 , 5.70028674, 5.64585139, 6.49881667, 5.01409753,\n",
       "       6.35742733, 4.88725436, 5.72746575, 5.80443427, 4.93441057,\n",
       "       5.35319448, 5.06238446, 5.31076572, 5.94050248, 5.31504131,\n",
       "       5.11268595, 5.06719612, 5.29252278, 6.17818364, 5.4954484 ,\n",
       "       5.31314671, 6.35391464, 5.39087578, 5.6124189 , 5.80132494])"
      ]
     },
     "execution_count": 36,
     "metadata": {},
     "output_type": "execute_result"
    }
   ],
   "source": [
    "test_pred=reg.predict(X_test) # make predictions on the test data using TRAINED linear regression model\n",
    "test_pred"
   ]
  },
  {
   "cell_type": "code",
   "execution_count": 37,
   "id": "801e65b6",
   "metadata": {},
   "outputs": [
    {
     "data": {
      "text/plain": [
       "0.6286685535282377"
      ]
     },
     "execution_count": 37,
     "metadata": {},
     "output_type": "execute_result"
    }
   ],
   "source": [
    "# To calculate the avg differences between the actual value and predicted vale of target variable\n",
    "train_rmse=metrics.mean_squared_error(train_pred,Y_train)**0.5\n",
    "train_rmse\n",
    "# This code tells how well the model performs on the same data it was trained on\n",
    "#Low value of RMSE indicates the model fits fine with the data and our model's predictions are off by aprrox 0.3"
   ]
  },
  {
   "cell_type": "code",
   "execution_count": 38,
   "id": "7a4c1fac",
   "metadata": {},
   "outputs": [
    {
     "data": {
      "text/plain": [
       "0.6860305800287303"
      ]
     },
     "execution_count": 38,
     "metadata": {},
     "output_type": "execute_result"
    }
   ],
   "source": [
    "# This code measures how the model responds to new,unseen data that it wasnt exposed to during training\n",
    "test_rmse=metrics.mean_squared_error(test_pred,Y_test)**0.5\n",
    "test_rmse\n",
    "# We are getting relatively accurate predictions-closer to true data"
   ]
  },
  {
   "cell_type": "code",
   "execution_count": 39,
   "id": "7bb8b787",
   "metadata": {},
   "outputs": [
    {
     "data": {
      "text/plain": [
       "array([5., 6., 5., 5., 7., 5., 5., 6., 6., 6., 6., 5., 7., 5., 6., 5., 6.,\n",
       "       6., 5., 5., 6., 6., 5., 5., 5., 5., 5., 6., 6., 5., 6., 5., 6., 5.,\n",
       "       5., 5., 6., 6., 6., 7., 6., 6., 6., 5., 5., 6., 6., 6., 5., 5., 6.,\n",
       "       6., 5., 6., 6., 6., 6., 5., 6., 6., 6., 5., 5., 5., 6., 7., 6., 5.,\n",
       "       5., 6., 7., 5., 5., 6., 5., 5., 6., 5., 5., 5., 5., 5., 5., 5., 6.,\n",
       "       5., 5., 5., 6., 5., 5., 6., 5., 5., 6., 6., 6., 5., 5., 6., 5., 6.,\n",
       "       5., 6., 5., 5., 6., 6., 6., 6., 6., 5., 5., 5., 6., 5., 5., 5., 5.,\n",
       "       6., 6., 6., 5., 6., 6., 6., 5., 5., 5., 7., 7., 6., 6., 5., 6., 5.,\n",
       "       6., 5., 5., 6., 5., 6., 6., 7., 5., 5., 5., 6., 5., 6., 5., 5., 5.,\n",
       "       6., 6., 7., 5., 6., 5., 6., 6., 6., 6., 6., 6., 6., 6., 5., 4., 7.,\n",
       "       5., 7., 6., 6., 6., 6., 6., 6., 6., 5., 5., 7., 5., 5., 5., 6., 5.,\n",
       "       7., 6., 6., 6., 6., 5., 5., 5., 6., 5., 6., 5., 6., 6., 7., 5., 6.,\n",
       "       6., 5., 5., 6., 6., 6., 5., 6., 5., 6., 5., 6., 5., 6., 5., 5., 5.,\n",
       "       5., 6., 6., 5., 6., 5., 6., 5., 7., 6., 6., 6., 5., 5., 5., 5., 5.,\n",
       "       5., 7., 5., 6., 6., 5., 6., 6., 5., 6., 6., 5., 7., 5., 5., 6., 5.,\n",
       "       6., 6., 6., 6., 5., 6., 5., 5., 6., 5., 5., 5., 5., 5., 6., 5., 5.,\n",
       "       6., 6., 5., 6., 5., 6., 6., 6., 5., 6., 5., 5., 6., 6., 5., 5., 5.,\n",
       "       6., 6., 6., 5., 6., 5., 5., 6., 5., 6., 5., 6., 6., 6., 6., 5., 5.,\n",
       "       5., 6., 6., 6., 5., 7., 4., 5., 6., 6., 5., 6., 5., 6., 6., 5., 5.,\n",
       "       5., 5., 5., 5., 5., 6., 6., 5., 5., 5., 5., 6., 5., 6., 6., 6., 6.,\n",
       "       6., 7., 6., 6., 6., 5., 5., 6., 6., 5., 8., 5., 5., 6., 5., 6., 5.,\n",
       "       5., 6., 6., 5., 6., 5., 6., 6., 6., 6., 6., 5., 6., 6., 5., 7., 5.,\n",
       "       6., 6., 5., 6., 5., 5., 5., 6., 6., 5., 5., 6., 5., 5., 6., 6., 5.,\n",
       "       5., 5., 6., 6., 5., 6., 5., 6., 5., 7., 6., 5., 5., 5., 6., 5., 5.,\n",
       "       5., 6., 6., 5., 5., 5., 6., 6., 5., 6., 6., 6., 6., 5., 5., 5., 5.,\n",
       "       6., 6., 7., 5., 6., 7., 5., 6., 6., 5., 6., 5., 6., 6., 6., 6., 6.,\n",
       "       5., 6., 6., 6., 5., 6., 6., 5., 5., 6., 7., 6., 5., 6., 6., 6., 6.,\n",
       "       5., 6., 5., 6., 6., 5., 5., 5., 5., 6., 5., 5., 5., 5., 6., 5., 5.,\n",
       "       6., 5., 6., 6.])"
      ]
     },
     "execution_count": 39,
     "metadata": {},
     "output_type": "execute_result"
    }
   ],
   "source": [
    "predicted_data=np.round_(test_pred)\n",
    "predicted_data"
   ]
  },
  {
   "cell_type": "markdown",
   "id": "24bc2a28",
   "metadata": {},
   "source": [
    "# 3 Metrics are used to tell us how well the model is doing in making predictions-\n",
    "* MAE- Measures the average absolute difference between the actual (true) values (Y_test) and the predicted values (test_pred). In simpler terms, it tells you, on average, how far off your predictions are from the real values. A smaller MAE means that your model's predictions are closer to the actual values.\n",
    "* MSE- Measures the average of the squared differences between the actual values and the predicted values. It penalizes larger errors more than smaller ones. A smaller MSE indicates that, on average, your model's predictions have smaller errors.\n",
    "* RMSE- It is essentially the square root of the MSE. It's a way to convert the error metric back to the original unit of measurement"
   ]
  },
  {
   "cell_type": "code",
   "execution_count": 40,
   "id": "390fa12d",
   "metadata": {},
   "outputs": [
    {
     "name": "stdout",
     "output_type": "stream",
     "text": [
      "Mean Absolute Error(MAE): 0.5339369001542451\n",
      "Mean Squared Error(MSE) 0.47063795673455616\n",
      "Root Mean Error(RMSE) 0.6860305800287303\n"
     ]
    }
   ],
   "source": [
    "print('Mean Absolute Error(MAE):',metrics.mean_absolute_error(Y_test,test_pred))\n",
    "print('Mean Squared Error(MSE)',metrics.mean_squared_error(Y_test,test_pred))\n",
    "rmse=np.sqrt(metrics.mean_squared_error(Y_test,test_pred))\n",
    "print('Root Mean Error(RMSE)',rmse)"
   ]
  },
  {
   "cell_type": "code",
   "execution_count": 41,
   "id": "739ec128",
   "metadata": {},
   "outputs": [
    {
     "data": {
      "text/plain": [
       "0.3348811868194286"
      ]
     },
     "execution_count": 41,
     "metadata": {},
     "output_type": "execute_result"
    }
   ],
   "source": [
    "from sklearn.metrics import r2_score\n",
    "r2_score(Y_test,test_pred)"
   ]
  },
  {
   "cell_type": "code",
   "execution_count": 42,
   "id": "64d8f551",
   "metadata": {},
   "outputs": [
    {
     "data": {
      "text/html": [
       "<div>\n",
       "<style scoped>\n",
       "    .dataframe tbody tr th:only-of-type {\n",
       "        vertical-align: middle;\n",
       "    }\n",
       "\n",
       "    .dataframe tbody tr th {\n",
       "        vertical-align: top;\n",
       "    }\n",
       "\n",
       "    .dataframe thead th {\n",
       "        text-align: right;\n",
       "    }\n",
       "</style>\n",
       "<table border=\"1\" class=\"dataframe\">\n",
       "  <thead>\n",
       "    <tr style=\"text-align: right;\">\n",
       "      <th></th>\n",
       "      <th>Coefficient</th>\n",
       "    </tr>\n",
       "  </thead>\n",
       "  <tbody>\n",
       "    <tr>\n",
       "      <th>fixed acidity</th>\n",
       "      <td>0.033685</td>\n",
       "    </tr>\n",
       "    <tr>\n",
       "      <th>volatile acidity</th>\n",
       "      <td>-0.992227</td>\n",
       "    </tr>\n",
       "    <tr>\n",
       "      <th>citric acid</th>\n",
       "      <td>-0.187236</td>\n",
       "    </tr>\n",
       "    <tr>\n",
       "      <th>residual sugar</th>\n",
       "      <td>0.019738</td>\n",
       "    </tr>\n",
       "    <tr>\n",
       "      <th>chlorides</th>\n",
       "      <td>-1.568301</td>\n",
       "    </tr>\n",
       "    <tr>\n",
       "      <th>free sulfur dioxide</th>\n",
       "      <td>0.002797</td>\n",
       "    </tr>\n",
       "    <tr>\n",
       "      <th>total sulfur dioxide</th>\n",
       "      <td>-0.003090</td>\n",
       "    </tr>\n",
       "    <tr>\n",
       "      <th>density</th>\n",
       "      <td>-17.508025</td>\n",
       "    </tr>\n",
       "    <tr>\n",
       "      <th>pH</th>\n",
       "      <td>-0.400621</td>\n",
       "    </tr>\n",
       "    <tr>\n",
       "      <th>sulphates</th>\n",
       "      <td>0.888221</td>\n",
       "    </tr>\n",
       "    <tr>\n",
       "      <th>alcohol</th>\n",
       "      <td>0.293405</td>\n",
       "    </tr>\n",
       "  </tbody>\n",
       "</table>\n",
       "</div>"
      ],
      "text/plain": [
       "                      Coefficient\n",
       "fixed acidity            0.033685\n",
       "volatile acidity        -0.992227\n",
       "citric acid             -0.187236\n",
       "residual sugar           0.019738\n",
       "chlorides               -1.568301\n",
       "free sulfur dioxide      0.002797\n",
       "total sulfur dioxide    -0.003090\n",
       "density                -17.508025\n",
       "pH                      -0.400621\n",
       "sulphates                0.888221\n",
       "alcohol                  0.293405"
      ]
     },
     "execution_count": 42,
     "metadata": {},
     "output_type": "execute_result"
    }
   ],
   "source": [
    "coefficients=pd.DataFrame(reg.coef_,X.columns)\n",
    "coefficients.columns=['Coefficient']\n",
    "coefficients"
   ]
  },
  {
   "cell_type": "markdown",
   "id": "5b78e1ea",
   "metadata": {},
   "source": [
    "## CONCLUSION: The above coefficients denote the impact of each on the Quality of Wine.\n",
    "\n",
    "Such as,\n",
    "\n",
    "* Every Alcohol measure increase will lead to increase of 0.3 in Quality.\n",
    "* Increase in Chlorides will decrease the quality of Wine."
   ]
  }
 ],
 "metadata": {
  "kernelspec": {
   "display_name": "Python 3 (ipykernel)",
   "language": "python",
   "name": "python3"
  },
  "language_info": {
   "codemirror_mode": {
    "name": "ipython",
    "version": 3
   },
   "file_extension": ".py",
   "mimetype": "text/x-python",
   "name": "python",
   "nbconvert_exporter": "python",
   "pygments_lexer": "ipython3",
   "version": "3.11.4"
  }
 },
 "nbformat": 4,
 "nbformat_minor": 5
}
